{
 "cells": [
  {
   "cell_type": "markdown",
   "metadata": {},
   "source": [
    "# Project 3\n",
    "\n",
    "In this project, you will perform a logistic regression on the admissions data we've been working with in projects 1 and 2."
   ]
  },
  {
   "cell_type": "code",
   "execution_count": 135,
   "metadata": {
    "collapsed": true
   },
   "outputs": [],
   "source": [
    "%matplotlib inline\n",
    "import matplotlib.pyplot as plt\n",
    "import pandas as pd\n",
    "import statsmodels.api as sm\n",
    "import pylab as pl\n",
    "import numpy as np\n"
   ]
  },
  {
   "cell_type": "code",
   "execution_count": 136,
   "metadata": {
    "collapsed": false
   },
   "outputs": [],
   "source": [
    "df_raw = pd.read_csv(\"../assets/admissions.csv\")\n",
    "df = df_raw.dropna() "
   ]
  },
  {
   "cell_type": "markdown",
   "metadata": {},
   "source": [
    "## Part 1. Frequency Tables\n",
    "\n",
    "#### 1. Let's create a frequency table of our variables"
   ]
  },
  {
   "cell_type": "code",
   "execution_count": 137,
   "metadata": {
    "collapsed": false
   },
   "outputs": [
    {
     "name": "stdout",
     "output_type": "stream",
     "text": [
      "2.0    148\n",
      "3.0    121\n",
      "4.0     67\n",
      "1.0     61\n",
      "Name: prestige, dtype: int64\n"
     ]
    }
   ],
   "source": [
    "# frequency table for prestige and whether or not someone was admitted\n",
    "print df[\"prestige\"].value_counts()"
   ]
  },
  {
   "cell_type": "markdown",
   "metadata": {},
   "source": [
    "## Part 2. Return of dummy variables"
   ]
  },
  {
   "cell_type": "markdown",
   "metadata": {},
   "source": [
    "#### 2.1 Create class or dummy variables for prestige "
   ]
  },
  {
   "cell_type": "code",
   "execution_count": 138,
   "metadata": {
    "collapsed": false
   },
   "outputs": [
    {
     "name": "stdout",
     "output_type": "stream",
     "text": [
      "   prestige_1.0  prestige_2.0  prestige_3.0  prestige_4.0\n",
      "0           0.0           0.0           1.0           0.0\n",
      "1           0.0           0.0           1.0           0.0\n",
      "2           1.0           0.0           0.0           0.0\n",
      "3           0.0           0.0           0.0           1.0\n",
      "4           0.0           0.0           0.0           1.0\n"
     ]
    }
   ],
   "source": [
    "\n",
    "##df = df.join pd.get_dummies(df['prestige'])  # some reason its gets error overlap when i try to run twice\n",
    "\n",
    "dummy_ranks = pd.get_dummies(df['prestige'], prefix='prestige')\n",
    "print dummy_ranks.head()\n",
    "##print dummy_ranks.info()\n",
    "##print df.describe()"
   ]
  },
  {
   "cell_type": "markdown",
   "metadata": {},
   "source": [
    "#### 2.2 When modeling our class variables, how many do we need? \n",
    "\n"
   ]
  },
  {
   "cell_type": "markdown",
   "metadata": {},
   "source": [
    "Answer: When modeling class variables we should have try to use lines to draw lines through where data can be separated off.Typically we would at least 2+ otherwise the relationship would be better understood without creating classes."
   ]
  },
  {
   "cell_type": "markdown",
   "metadata": {},
   "source": [
    "## Part 3. Hand calculating odds ratios\n",
    "\n",
    "Develop your intuition about expected outcomes by hand calculating odds ratios."
   ]
  },
  {
   "cell_type": "code",
   "execution_count": 139,
   "metadata": {
    "collapsed": false
   },
   "outputs": [
    {
     "name": "stdout",
     "output_type": "stream",
     "text": [
      "   admit    gre   gpa  prestige_1.0  prestige_2.0  prestige_3.0  prestige_4.0\n",
      "0      0  380.0  3.61           0.0           0.0           1.0           0.0\n",
      "1      1  660.0  3.67           0.0           0.0           1.0           0.0\n",
      "2      1  800.0  4.00           1.0           0.0           0.0           0.0\n",
      "3      1  640.0  3.19           0.0           0.0           0.0           1.0\n",
      "4      0  520.0  2.93           0.0           0.0           0.0           1.0\n"
     ]
    }
   ],
   "source": [
    "cols_to_keep = ['admit', 'gre', 'gpa']\n",
    "handCalc = df[cols_to_keep].join(dummy_ranks.ix[:, 'prestige_1':])\n",
    "print handCalc.head()"
   ]
  },
  {
   "cell_type": "code",
   "execution_count": 140,
   "metadata": {
    "collapsed": false
   },
   "outputs": [
    {
     "name": "stdout",
     "output_type": "stream",
     "text": [
      "prestige  1.0  2.0  3.0  4.0\n",
      "admit                       \n",
      "0          28   95   93   55\n",
      "1          33   53   28   12\n"
     ]
    }
   ],
   "source": [
    "#crosstab prestige 1 admission \n",
    "# frequency table cutting prestige and whether or not someone was admitted\n",
    "print pd.crosstab(df['admit'], df['prestige'], rownames=['admit'])\n",
    "\n"
   ]
  },
  {
   "cell_type": "markdown",
   "metadata": {},
   "source": [
    "#### 3.1 Use the cross tab above to calculate the odds of being admitted to grad school if you attended a #1 ranked college"
   ]
  },
  {
   "cell_type": "code",
   "execution_count": 141,
   "metadata": {
    "collapsed": false
   },
   "outputs": [
    {
     "name": "stdout",
     "output_type": "stream",
     "text": [
      "1.17391304348\n"
     ]
    }
   ],
   "source": [
    "#print df.prestige.value_counts()\n",
    "#pres1prob= sum(df['prestige(1.0)'])\n",
    "\n",
    "odds_pres_1 = .54/(1-.54) \n",
    "print odds_pres_1"
   ]
  },
  {
   "cell_type": "markdown",
   "metadata": {},
   "source": [
    "#### 3.2 Now calculate the odds of admission if you did not attend a #1 ranked college"
   ]
  },
  {
   "cell_type": "code",
   "execution_count": 142,
   "metadata": {
    "collapsed": false
   },
   "outputs": [
    {
     "name": "stdout",
     "output_type": "stream",
     "text": [
      "0.388888888889\n"
     ]
    }
   ],
   "source": [
    "odds_others = .28/(1-.28)\n",
    "print odds_others"
   ]
  },
  {
   "cell_type": "markdown",
   "metadata": {},
   "source": [
    "#### 3.3 Calculate the odds ratio"
   ]
  },
  {
   "cell_type": "code",
   "execution_count": 143,
   "metadata": {
    "collapsed": false
   },
   "outputs": [
    {
     "name": "stdout",
     "output_type": "stream",
     "text": [
      "odds ratio 3.01863354037\n"
     ]
    }
   ],
   "source": [
    "print \"odds ratio \" + str(odds_pres_1/odds_others)"
   ]
  },
  {
   "cell_type": "markdown",
   "metadata": {},
   "source": [
    "#### 3.4 Write this finding in a sentenance: "
   ]
  },
  {
   "cell_type": "markdown",
   "metadata": {},
   "source": [
    "Answer:  attanding an undergraduate school with a prestige score as 1 over all had nearly a double percent lift in admittance."
   ]
  },
  {
   "cell_type": "markdown",
   "metadata": {},
   "source": [
    "#### 3.5 Print the cross tab for prestige_4"
   ]
  },
  {
   "cell_type": "code",
   "execution_count": 144,
   "metadata": {
    "collapsed": false
   },
   "outputs": [
    {
     "name": "stdout",
     "output_type": "stream",
     "text": [
      "prestige  1.0  2.0  3.0  4.0\n",
      "admit                       \n",
      "0          28   95   93   55\n",
      "1          33   53   28   12\n"
     ]
    }
   ],
   "source": [
    "print pd.crosstab(df['admit'], df['prestige'], rownames=['admit'])\n",
    "\n"
   ]
  },
  {
   "cell_type": "markdown",
   "metadata": {},
   "source": [
    "#### 3.6 Calculate the OR "
   ]
  },
  {
   "cell_type": "code",
   "execution_count": 145,
   "metadata": {
    "collapsed": false
   },
   "outputs": [
    {
     "data": {
      "text/plain": [
       "0.21818181818181817"
      ]
     },
     "execution_count": 145,
     "metadata": {},
     "output_type": "execute_result"
    }
   ],
   "source": [
    "\n",
    "12./55"
   ]
  },
  {
   "cell_type": "markdown",
   "metadata": {},
   "source": [
    "#### 3.7 Write this finding in a sentence"
   ]
  },
  {
   "cell_type": "markdown",
   "metadata": {},
   "source": [
    "Answer: the likelyhood of you being admitted is higher for students who attended schools wth a higher prestige"
   ]
  },
  {
   "cell_type": "markdown",
   "metadata": {},
   "source": [
    "## Part 4. Analysis"
   ]
  },
  {
   "cell_type": "code",
   "execution_count": 165,
   "metadata": {
    "collapsed": false
   },
   "outputs": [
    {
     "name": "stdout",
     "output_type": "stream",
     "text": [
      "   admit    gre   gpa  prestige_2.0  prestige_3.0  prestige_4.0\n",
      "0      0  380.0  3.61           0.0           1.0           0.0\n",
      "1      1  660.0  3.67           0.0           1.0           0.0\n",
      "2      1  800.0  4.00           0.0           0.0           0.0\n",
      "3      1  640.0  3.19           0.0           0.0           1.0\n",
      "4      0  520.0  2.93           0.0           0.0           1.0\n"
     ]
    }
   ],
   "source": [
    "# create a clean data frame for the regression\n",
    "cols_to_keep = ['admit', 'gre', 'gpa']\n",
    "data = df[cols_to_keep].join(dummy_ranks.ix[:, 'prestige_2':])\n",
    "print data.head()"
   ]
  },
  {
   "cell_type": "markdown",
   "metadata": {},
   "source": [
    "We're going to add a constant term for our Logistic Regression. The statsmodels function we're going to be using requires that intercepts/constants are specified explicitly."
   ]
  },
  {
   "cell_type": "code",
   "execution_count": 160,
   "metadata": {
    "collapsed": false
   },
   "outputs": [
    {
     "name": "stdout",
     "output_type": "stream",
     "text": [
      "   admit    gre   gpa  prestige_2.0  prestige_3.0  prestige_4.0  intercept\n",
      "0      0  380.0  3.61           0.0           1.0           0.0        1.0\n",
      "1      1  660.0  3.67           0.0           1.0           0.0        1.0\n",
      "2      1  800.0  4.00           0.0           0.0           0.0        1.0\n",
      "3      1  640.0  3.19           0.0           0.0           1.0        1.0\n",
      "4      0  520.0  2.93           0.0           0.0           1.0        1.0\n"
     ]
    }
   ],
   "source": [
    "# manually add the intercept\n",
    "data['intercept'] = 1.0\n",
    "print data.head()"
   ]
  },
  {
   "cell_type": "markdown",
   "metadata": {},
   "source": [
    "#### 4.1 Set the covariates to a variable called train_cols"
   ]
  },
  {
   "cell_type": "code",
   "execution_count": 148,
   "metadata": {
    "collapsed": false
   },
   "outputs": [],
   "source": [
    "train_cols = data.columns[1:]\n"
   ]
  },
  {
   "cell_type": "markdown",
   "metadata": {},
   "source": [
    "#### 4.2 Fit the model"
   ]
  },
  {
   "cell_type": "code",
   "execution_count": 149,
   "metadata": {
    "collapsed": false
   },
   "outputs": [
    {
     "name": "stdout",
     "output_type": "stream",
     "text": [
      "Optimization terminated successfully.\n",
      "         Current function value: 0.573854\n",
      "         Iterations 6\n"
     ]
    }
   ],
   "source": [
    "logit = sm.Logit(data['admit'], data[train_cols])\n",
    "result = logit.fit()\n"
   ]
  },
  {
   "cell_type": "markdown",
   "metadata": {},
   "source": [
    "#### 4.3 Print the summary results"
   ]
  },
  {
   "cell_type": "code",
   "execution_count": 150,
   "metadata": {
    "collapsed": false
   },
   "outputs": [
    {
     "name": "stdout",
     "output_type": "stream",
     "text": [
      "                           Logit Regression Results                           \n",
      "==============================================================================\n",
      "Dep. Variable:                  admit   No. Observations:                  397\n",
      "Model:                          Logit   Df Residuals:                      391\n",
      "Method:                           MLE   Df Model:                            5\n",
      "Date:                Thu, 20 Oct 2016   Pseudo R-squ.:                 0.08166\n",
      "Time:                        18:24:10   Log-Likelihood:                -227.82\n",
      "converged:                       True   LL-Null:                       -248.08\n",
      "                                        LLR p-value:                 1.176e-07\n",
      "================================================================================\n",
      "                   coef    std err          z      P>|z|      [95.0% Conf. Int.]\n",
      "--------------------------------------------------------------------------------\n",
      "gre              0.0022      0.001      2.028      0.043      7.44e-05     0.004\n",
      "gpa              0.7793      0.333      2.344      0.019         0.128     1.431\n",
      "prestige_2.0    -0.6801      0.317     -2.146      0.032        -1.301    -0.059\n",
      "prestige_3.0    -1.3387      0.345     -3.882      0.000        -2.015    -0.663\n",
      "prestige_4.0    -1.5534      0.417     -3.721      0.000        -2.372    -0.735\n",
      "intercept       -3.8769      1.142     -3.393      0.001        -6.116    -1.638\n",
      "================================================================================\n"
     ]
    }
   ],
   "source": [
    "print result.summary()"
   ]
  },
  {
   "cell_type": "markdown",
   "metadata": {},
   "source": [
    "#### 4.4 Calculate the odds ratios of the coeffiencents and their 95% CI intervals\n",
    "\n",
    "hint 1: np.exp(X)\n",
    "\n",
    "hint 2: conf['OR'] = params\n",
    "        \n",
    "           conf.columns = ['2.5%', '97.5%', 'OR']"
   ]
  },
  {
   "cell_type": "code",
   "execution_count": 151,
   "metadata": {
    "collapsed": false
   },
   "outputs": [
    {
     "name": "stdout",
     "output_type": "stream",
     "text": [
      "                  2.5%     97.5%        OR\n",
      "gre           1.000074  1.004372  1.002221\n",
      "gpa           1.136120  4.183113  2.180027\n",
      "prestige_2.0  0.272168  0.942767  0.506548\n",
      "prestige_3.0  0.133377  0.515419  0.262192\n",
      "prestige_4.0  0.093329  0.479411  0.211525\n",
      "intercept     0.002207  0.194440  0.020716\n"
     ]
    }
   ],
   "source": [
    "params = result.params\n",
    "conf = result.conf_int()\n",
    "conf['OR'] = params\n",
    "conf.columns = ['2.5%', '97.5%', 'OR']\n",
    "print np.exp(conf)"
   ]
  },
  {
   "cell_type": "code",
   "execution_count": null,
   "metadata": {
    "collapsed": false
   },
   "outputs": [],
   "source": []
  },
  {
   "cell_type": "markdown",
   "metadata": {},
   "source": [
    "#### 4.5 Interpret the OR of Prestige_2"
   ]
  },
  {
   "cell_type": "markdown",
   "metadata": {},
   "source": [
    "Answer  as prestige 2 goes up by 1 the log odds goes up by "
   ]
  },
  {
   "cell_type": "markdown",
   "metadata": {},
   "source": [
    "#### 4.6 Interpret the OR of GPA"
   ]
  },
  {
   "cell_type": "markdown",
   "metadata": {},
   "source": [
    "Answer: as gpa goes up by 1 the log odds goes down by .8"
   ]
  },
  {
   "cell_type": "markdown",
   "metadata": {},
   "source": [
    "## Part 5: Predicted probablities\n"
   ]
  },
  {
   "cell_type": "markdown",
   "metadata": {},
   "source": [
    "As a way of evaluating our classifier, we're going to recreate the dataset with every logical combination of input values. This will allow us to see how the predicted probability of admission increases/decreases across different variables. First we're going to generate the combinations using a helper function called cartesian (above).\n",
    "\n",
    "We're going to use np.linspace to create a range of values for \"gre\" and \"gpa\". This creates a range of linearly spaced values from a specified min and maximum value--in our case just the min/max observed values."
   ]
  },
  {
   "cell_type": "code",
   "execution_count": 152,
   "metadata": {
    "collapsed": true
   },
   "outputs": [],
   "source": [
    "def cartesian(arrays, out=None):\n",
    "    \"\"\"\n",
    "    Generate a cartesian product of input arrays.\n",
    "    Parameters\n",
    "    ----------\n",
    "    arrays : list of array-like\n",
    "        1-D arrays to form the cartesian product of.\n",
    "    out : ndarray\n",
    "        Array to place the cartesian product in.\n",
    "    Returns\n",
    "    -------\n",
    "    out : ndarray\n",
    "        2-D array of shape (M, len(arrays)) containing cartesian products\n",
    "        formed of input arrays.\n",
    "    Examples\n",
    "    --------\n",
    "    >>> cartesian(([1, 2, 3], [4, 5], [6, 7]))\n",
    "    array([[1, 4, 6],\n",
    "           [1, 4, 7],\n",
    "           [1, 5, 6],\n",
    "           [1, 5, 7],\n",
    "           [2, 4, 6],\n",
    "           [2, 4, 7],\n",
    "           [2, 5, 6],\n",
    "           [2, 5, 7],\n",
    "           [3, 4, 6],\n",
    "           [3, 4, 7],\n",
    "           [3, 5, 6],\n",
    "           [3, 5, 7]])\n",
    "    \"\"\"\n",
    "\n",
    "    arrays = [np.asarray(x) for x in arrays]\n",
    "    dtype = arrays[0].dtype\n",
    "\n",
    "    n = np.prod([x.size for x in arrays])\n",
    "    if out is None:\n",
    "        out = np.zeros([n, len(arrays)], dtype=dtype)\n",
    "\n",
    "    m = n / arrays[0].size\n",
    "    out[:,0] = np.repeat(arrays[0], m)\n",
    "    if arrays[1:]:\n",
    "        cartesian(arrays[1:], out=out[0:m,1:])\n",
    "        for j in xrange(1, arrays[0].size):\n",
    "            out[j*m:(j+1)*m,1:] = out[0:m,1:]\n",
    "    return out"
   ]
  },
  {
   "cell_type": "code",
   "execution_count": 153,
   "metadata": {
    "collapsed": false
   },
   "outputs": [
    {
     "name": "stdout",
     "output_type": "stream",
     "text": [
      "[ 220.          284.44444444  348.88888889  413.33333333  477.77777778\n",
      "  542.22222222  606.66666667  671.11111111  735.55555556  800.        ]\n",
      "[ 2.26        2.45333333  2.64666667  2.84        3.03333333  3.22666667\n",
      "  3.42        3.61333333  3.80666667  4.        ]\n"
     ]
    }
   ],
   "source": [
    "# instead of generating all possible values of GRE and GPA, we're going\n",
    "# to use an evenly spaced range of 10 values from the min to the max \n",
    "gres = np.linspace(data['gre'].min(), data['gre'].max(), 10)\n",
    "print gres\n",
    "# array([ 220.        ,  284.44444444,  348.88888889,  413.33333333,\n",
    "#         477.77777778,  542.22222222,  606.66666667,  671.11111111,\n",
    "#         735.55555556,  800.        ])\n",
    "gpas = np.linspace(data['gpa'].min(), data['gpa'].max(), 10)\n",
    "print gpas\n",
    "# array([ 2.26      ,  2.45333333,  2.64666667,  2.84      ,  3.03333333,\n",
    "#         3.22666667,  3.42      ,  3.61333333,  3.80666667,  4.        ])\n",
    "\n",
    "\n",
    "# enumerate all possibilities\n",
    "combos = pd.DataFrame(cartesian([gres, gpas, [1, 2, 3, 4], [1.]]))\n",
    " \n"
   ]
  },
  {
   "cell_type": "markdown",
   "metadata": {},
   "source": [
    "#### 5.1 Recreate the dummy variables"
   ]
  },
  {
   "cell_type": "code",
   "execution_count": 170,
   "metadata": {
    "collapsed": false
   },
   "outputs": [
    {
     "name": "stdout",
     "output_type": "stream",
     "text": [
      "       0         1    3  2_2.0  2_3.0  2_4.0\n",
      "0  220.0  2.260000  1.0    0.0    0.0    0.0\n",
      "1  220.0  2.260000  1.0    1.0    0.0    0.0\n",
      "2  220.0  2.260000  1.0    0.0    1.0    0.0\n",
      "3  220.0  2.260000  1.0    0.0    0.0    1.0\n",
      "4  220.0  2.453333  1.0    0.0    0.0    0.0\n"
     ]
    }
   ],
   "source": [
    "# recreate the dummy variables\n",
    "\n",
    "# keep only what we need for making predictions\n",
    "#print combos.head()\n",
    "dummy_rank2 = pd.get_dummies(combos[2], prefix=2)\n",
    "cols_to_keep2 = [0,1,3]\n",
    "data3 = combos[cols_to_keep2].join(dummy_rank2.ix[:,'2_2.0':])\n",
    "print data3.head()\n"
   ]
  },
  {
   "cell_type": "markdown",
   "metadata": {},
   "source": [
    "#### 5.2 Make predictions on the enumerated dataset"
   ]
  },
  {
   "cell_type": "code",
   "execution_count": 171,
   "metadata": {
    "collapsed": false
   },
   "outputs": [
    {
     "data": {
      "text/plain": [
       "array([ 0.82767157,  0.55738036,  0.50395086,  0.09049221,  0.84811417,\n",
       "        0.59416465,  0.54152305,  0.10368189,  0.86652283,  0.62992167,\n",
       "        0.57862892,  0.11854346,  0.88300812,  0.66430818,  0.6148675 ,\n",
       "        0.1352139 ,  0.89769775,  0.69703631,  0.64987532,  0.15381956,\n",
       "        0.9107294 ,  0.72788066,  0.68333982,  0.17446889,  0.92224481,\n",
       "        0.75668097,  0.71500847,  0.1972441 ,  0.93238508,  0.78334044,\n",
       "        0.74469328,  0.22219218,  0.94128712,  0.8078208 ,  0.77227091,\n",
       "        0.24931576,  0.94908115,  0.83013493,  0.79767897,  0.27856456,\n",
       "        0.84711857,  0.59230463,  0.53960871,  0.10296774,  0.86562878,\n",
       "        0.62812296,  0.57674842,  0.1177404 ,  0.88220948,  0.66258709,\n",
       "        0.61304057,  0.13431512,  0.89698769,  0.69540607,  0.64811942,\n",
       "        0.15281896,  0.91010073,  0.72635123,  0.68166954,  0.17336148,\n",
       "        0.92169027,  0.75525899,  0.71343518,  0.19602646,  0.93189752,\n",
       "        0.78202938,  0.74322502,  0.2208629 ,  0.94085968,  0.8066213 ,\n",
       "        0.77091245,  0.24787592,  0.94870735,  0.82904524,  0.79643213,\n",
       "        0.27701814,  0.95556285,  0.84935455,  0.81977359,  0.30818267,\n",
       "        0.86472968,  0.6263207 ,  0.57486569,  0.11694205,  0.88140613,\n",
       "        0.66086167,  0.61121045,  0.13342138,  0.89627327,  0.69377091,\n",
       "        0.64635951,  0.1518237 ,  0.90946808,  0.72481646,  0.67999458,\n",
       "        0.17225964,  0.92113211,  0.7538314 ,  0.71185671,  0.19481451,\n",
       "        0.9314067 ,  0.7807126 ,  0.74175124,  0.21953933,  0.94042932,\n",
       "        0.80541613,  0.76954831,  0.24644167,  0.94833096,  0.82795   ,\n",
       "        0.79517957,  0.27547703,  0.9552344 ,  0.84836563,  0.81863195,\n",
       "        0.30654169,  0.96125316,  0.8667486 ,  0.83993951,  0.33946809,\n",
       "        0.88059803,  0.65913197,  0.6093772 ,  0.13253269,  0.89555448,\n",
       "        0.69213086,  0.64459562,  0.15083376,  0.90883142,  0.72327636,\n",
       "        0.67831496,  0.17116334,  0.92057031,  0.75239821,  0.71027307,\n",
       "        0.19360824,  0.9309126 ,  0.77939012,  0.74027195,  0.21822147,\n",
       "        0.93999603,  0.80420526,  0.76817849,  0.24501301,  0.94795196,\n",
       "        0.82684922,  0.79392131,  0.27394124,  0.95490363,  0.84737138,\n",
       "        0.81748469,  0.3049056 ,  0.96096504,  0.86585583,  0.83890051,\n",
       "        0.33774185,  0.96624055,  0.88241232,  0.85823921,  0.3722207 ,\n",
       "        0.89483129,  0.69048595,  0.64282779,  0.14984914,  0.90819074,\n",
       "        0.72173096,  0.67663072,  0.17007259,  0.92000486,  0.75095944,\n",
       "        0.70868429,  0.19240767,  0.93041521,  0.77806193,  0.73878718,\n",
       "        0.21690931,  0.93955979,  0.80298871,  0.76680299,  0.24358996,\n",
       "        0.94757034,  0.82574287,  0.79265733,  0.27241079,  0.95457053,\n",
       "        0.8463718 ,  0.8163318 ,  0.30327442,  0.96067487,  0.86495801,\n",
       "        0.83785606,  0.33601992,  0.96598821,  0.88161016,  0.85729882,\n",
       "        0.37042131,  0.9706056 ,  0.89645473,  0.87475868,  0.4061901 ,\n",
       "        0.90754601,  0.72018025,  0.67494188,  0.16898738,  0.91943574,\n",
       "        0.74951509,  0.70709039,  0.19121277,  0.92991451,  0.77672803,\n",
       "        0.73729693,  0.21560288,  0.93912058,  0.80176645,  0.76542183,\n",
       "        0.24217252,  0.94718607,  0.82463095,  0.79138763,  0.27088571,\n",
       "        0.95423509,  0.84536686,  0.81517327,  0.30164818,  0.96038264,\n",
       "        0.86405512,  0.83680616,  0.33430234,  0.96573404,  0.88080327,\n",
       "        0.85635323,  0.36862551,  0.97038489,  0.89573705,  0.87391177,\n",
       "        0.40433226,  0.9744212 ,  0.90899314,  0.88960075,  0.44108145,\n",
       "        0.91886292,  0.74806517,  0.7054914 ,  0.19002354,  0.92941048,\n",
       "        0.77538843,  0.73580122,  0.21430215,  0.93867839,  0.8005385 ,\n",
       "        0.764035  ,  0.24076071,  0.94679914,  0.82351346,  0.79011222,\n",
       "        0.269366  ,  0.95389729,  0.84435656,  0.8140091 ,  0.3000269 ,\n",
       "        0.96008832,  0.86314716,  0.8357508 ,  0.33258915,  0.96547805,\n",
       "        0.87999162,  0.85540243,  0.36683335,  0.97016257,  0.89501497,\n",
       "        0.87305996,  0.40247716,  0.97422838,  0.90835348,  0.88884145,\n",
       "        0.43918206,  0.97775286,  0.9201485 ,  0.90287919,  0.47656458,\n",
       "        0.9289031 ,  0.77404313,  0.73430006,  0.21300715,  0.9382332 ,\n",
       "        0.79930485,  0.76264251,  0.23935452,  0.94640954,  0.82239038,\n",
       "        0.78883109,  0.26785168,  0.95355712,  0.84334088,  0.81283929,\n",
       "        0.29841062,  0.9597919 ,  0.86223409,  0.83468996,  0.33088037,\n",
       "        0.96522022,  0.87917521,  0.85444641,  0.36504486,  0.96993863,\n",
       "        0.89428849,  0.87220324,  0.40062485,  0.97403414,  0.90770978,\n",
       "        0.88807758,  0.43728444,  0.97758458,  0.91958031,  0.90220118,\n",
       "        0.47464214,  0.98065919,  0.93004171,  0.91471367,  0.51228586,\n",
       "        0.93778499,  0.79806549,  0.76124438,  0.23795398,  0.94601725,\n",
       "        0.8212617 ,  0.78754424,  0.26634278,  0.95321457,  0.84231982,\n",
       "        0.81166381,  0.29679935,  0.95949338,  0.86131592,  0.83362363,\n",
       "        0.32917604,  0.96496052,  0.87835402,  0.85348515,  0.36326008,\n",
       "        0.96971306,  0.89355757,  0.8713416 ,  0.39877537,  0.97383847,\n",
       "        0.90706202,  0.88730914,  0.43538866,  0.97741505,  0.91900843,\n",
       "        0.90151895,  0.47272046,  0.98051245,  0.92953852,  0.91411042,\n",
       "        0.51035983,  0.98319236,  0.93879073,  0.92522551,  0.54788209,\n",
       "        0.94562225,  0.82012742,  0.78625168,  0.2648393 ,  0.95286961,\n",
       "        0.84129334,  0.81048268,  0.29519312,  0.95919274,  0.86039261,\n",
       "        0.8325518 ,  0.32747619,  0.96469896,  0.87752802,  0.85251864,\n",
       "        0.36147907,  0.96948586,  0.89282221,  0.870475  ,  0.39692878,\n",
       "        0.97364138,  0.90641018,  0.88653609,  0.43349477,  0.97724426,\n",
       "        0.91843285,  0.90083249,  0.47079959,  0.98036461,  0.92903199,\n",
       "        0.9135033 ,  0.50843349,  0.98306451,  0.9383463 ,  0.92469049,\n",
       "        0.54597205,  0.98539869,  0.94650853,  0.93453445,  0.58299512])"
      ]
     },
     "execution_count": 171,
     "metadata": {},
     "output_type": "execute_result"
    }
   ],
   "source": [
    "result.predict(data3)"
   ]
  },
  {
   "cell_type": "markdown",
   "metadata": {},
   "source": [
    "#### 5.3 Interpret findings for the last 4 observations"
   ]
  },
  {
   "cell_type": "markdown",
   "metadata": {},
   "source": [
    "Answer: "
   ]
  },
  {
   "cell_type": "markdown",
   "metadata": {},
   "source": [
    "## Bonus\n",
    "\n",
    "Plot the probability of being admitted into graduate school, stratified by GPA and GRE score."
   ]
  },
  {
   "cell_type": "code",
   "execution_count": null,
   "metadata": {
    "collapsed": false
   },
   "outputs": [],
   "source": [
    "\n"
   ]
  }
 ],
 "metadata": {
  "anaconda-cloud": {},
  "kernelspec": {
   "display_name": "Python [Root]",
   "language": "python",
   "name": "Python [Root]"
  },
  "language_info": {
   "codemirror_mode": {
    "name": "ipython",
    "version": 2
   },
   "file_extension": ".py",
   "mimetype": "text/x-python",
   "name": "python",
   "nbconvert_exporter": "python",
   "pygments_lexer": "ipython2",
   "version": "2.7.12"
  }
 },
 "nbformat": 4,
 "nbformat_minor": 0
}
